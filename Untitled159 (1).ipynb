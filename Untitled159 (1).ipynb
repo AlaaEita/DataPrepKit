{
 "cells": [
  {
   "cell_type": "code",
   "execution_count": 1,
   "id": "4e13ab2c",
   "metadata": {},
   "outputs": [],
   "source": [
    "import numpy as np\n",
    "import pandas as pd\n",
    "import re\n",
    "from sklearn.model_selection import train_test_split\n",
    "from tensorflow.keras.preprocessing.text import Tokenizer\n",
    "from tensorflow.keras.preprocessing.sequence import pad_sequences\n",
    "from tensorflow.keras.models import Sequential\n",
    "from tensorflow.keras.layers import Embedding, LSTM, Dense, Dropout\n",
    "from tensorflow.keras.optimizers import Adam\n",
    "from sklearn.metrics import confusion_matrix, classification_report, accuracy_score, precision_score, recall_score, f1_score\n",
    "import matplotlib.pyplot as plt\n",
    "import seaborn as sns"
   ]
  },
  {
   "cell_type": "markdown",
   "id": "3cc7fce8",
   "metadata": {},
   "source": [
    "# Data Exploration &Data Preprocessing"
   ]
  },
  {
   "cell_type": "code",
   "execution_count": 2,
   "id": "f950af45",
   "metadata": {},
   "outputs": [],
   "source": [
    "# Load the training data\n",
    "df_train = pd.read_csv('train.ft.txt.bz2', delimiter='\\t', header=None, names=['label', 'text']).sample(200000)"
   ]
  },
  {
   "cell_type": "code",
   "execution_count": 3,
   "id": "3f70d5a6",
   "metadata": {},
   "outputs": [
    {
     "name": "stdout",
     "output_type": "stream",
     "text": [
      "                                                     label  text\n",
      "2274594  __label__1 something wrong with these blades: ...   NaN\n",
      "3270840  __label__2 Worked great.: These grinding wheel...   NaN\n",
      "3577632  __label__2 Straight forward information: Great...   NaN\n",
      "3514684  __label__2 Take the risk out of your marital c...   NaN\n",
      "2756377  __label__2 Loverly: I heard a track off this a...   NaN\n",
      "<class 'pandas.core.frame.DataFrame'>\n",
      "Index: 200000 entries, 2274594 to 1717926\n",
      "Data columns (total 2 columns):\n",
      " #   Column  Non-Null Count   Dtype  \n",
      "---  ------  --------------   -----  \n",
      " 0   label   200000 non-null  object \n",
      " 1   text    0 non-null       float64\n",
      "dtypes: float64(1), object(1)\n",
      "memory usage: 4.6+ MB\n",
      "None\n",
      "label\n",
      "__label__1 something wrong with these blades: This is not product, which I always use. It feels like these are old blades put into new pack. even after using a healthy dose of shaving gel these blades were not gliding and shaving like they are supposed to be. I am never ever going to buy these again.                                                                                                                                                                                                                                                                                                                                                                                                                                                                                                                                                                                                                                            1\n",
      "__label__2 Thomas rules: This is another good thomas dvd that has action packed stories ther storeis or very good but after the frist three michel brandon starts to alec baldwins place any way here or the storeis1.thomas and the jet engine.9/102.percy and the hunted mine.8/103.scardy engines.10/104.harold and the flying horse.5/105.bulgy rides agian.10/106.saltys stormy tale.4/10song.boo boo choo chooI think its great.BUT WARING TO PARENTS WITH YOUNG KIDS.the frist 3 stories on the tape may be to much for young children.I hopre the next thomas andventures good                                                                                                                                                                                                                                                                                                                                                                   1\n",
      "__label__1 Singing needs Coaching!: Beautiful woman, OK belly dancer, nice blonde hair, but her singing is just awful in \"Live Off The Record.\" Even when she speaks to the audience it's really bad. She's great marketing hype, but honestly, her singing has really declined rapidly. I like her band which makes up for her weak singing. Check our her first two albums when Shakira was more serious and relied less on dying her hair, less belly dancing, and more writing substance. No wonder sellers are selling this CD+DVD album under $3.                                                                                                                                                                                                                                                                                                                                                                                                  1\n",
      "__label__2 This book opens your eyes in an enlightening way.: I thoroughly enjoyed this book. It shows how our chosen paths can lead to change. Pearl writes how the spirit of the characters survived through the crossroads that they pass through. Hope, family, and friendships ultimately prevail.                                                                                                                                                                                                                                                                                                                                                                                                                                                                                                                                                                                                                                                  1\n",
      "__label__2 on time: The book arrived in a short amount of time and in good shape. I look forward to reading the book soon. Thanks!                                                                                                                                                                                                                                                                                                                                                                                                                                                                                                                                                                                                                                                                                                                                                                                                                       1\n",
      "                                                                                                                                                                                                                                                                                                                                                                                                                                                                                                                                                                                                                                                                                                                                                                                                                                                                                                                                                        ..\n",
      "__label__1 Awful: I think Ruben needs to do something. I am not so sure it is be a singer. He won American Idol but what has happened to this man. If he was good enough to win this competition his music should be a lot better.                                                                                                                                                                                                                                                                                                                                                                                                                                                                                                                                                                                                                                                                                                                       1\n",
      "__label__1 W.T.F.: i love eric clapton and sometimes when you buy concert dvds they stink so you have to be careful. but reaseaching this every one said it was great. wow they are so wrong claptons playing on i shot the shariff was so bad i had to turn the thing off. i showed it to my freinds and they agree for clapton being such a god W.T.F. listen to the solo from i shot the shariff you'll see. sorry to every one liked it                                                                                                                                                                                                                                                                                                                                                                                                                                                                                                              1\n",
      "__label__2 A great, biblical book on fellowship!: Bro. Jividen did an excellent job with this book. The wealth of research and numerous scriptural references entrenched throughout this volume make it a \"Must Have\" for any serious student wishing to learn more about true In-Christ fellowship.All of that said, it deserves 5 stars! However, I gave it 4 due to the publisher's carelessness. This is obviously a newer edition of an old book. That being the case, the publisher should have taken the opportunity to reset the type (updating and refreshing the layout, doing minor editing here and there, etc.) But they did not. From what I can see they simply Xeroxed and digitized the old edition, and then sent those files off to the printer with a new cover. Disappointing. It could have been so much more ... aesthetically speaking.Nonetheless, \"Koinonia\" is a great book of immense value to any serious Bible student.    1\n",
      "__label__2 Quirky individuality: i fell in love with this band the very first time i heard them and have all their stuff on album format as well as CD. They are quirky and very danceable. Clare Grogan, the vocalist sings like i expect angels to sing when i die, if they don't then heaven is not for me. But this group is an either love or dislike, there is no middle of the road but i love them because to me they epitomised the 80's new wave movement. It is a shame their albums Pinky Blue and Bite aren't available in CD format. But record companies are notoriously shortsighted.                                                                                                                                                                                                                                                                                                                                                    1\n",
      "__label__2 For DDBB and WP fans both-- play it loud: This is really a collaboration between the two bands, despite the DDBB \"guest star\" billing.The treatment of \"Superstition\" is worth the price of admission all by itself. Despite the number of tracks listed, this disc is really just several extended jams. For someone who wants to hear a band play A Song there will be some disappointment. But the sheer power and invention and fun of so many players jumping into the the next cool idea is irresistable.This is a great live disc, a great, fresh listening experience. If you are a DDBB fan, you'll love what happens when they get a full kick-butt rock band to sit on, and WP fans will love the depth and breadth that the horn band gives them. Highly recommended.                                                                                                                                                             1\n",
      "Name: count, Length: 200000, dtype: int64\n"
     ]
    }
   ],
   "source": [
    "# Explore the dataset\n",
    "print(df_train.head())\n",
    "print(df_train.info())\n",
    "print(df_train['label'].value_counts())"
   ]
  },
  {
   "cell_type": "code",
   "execution_count": 5,
   "id": "6aef5f83",
   "metadata": {},
   "outputs": [],
   "source": [
    "# Clean the data (basic cleaning)\n",
    "df_train['text'] = df_train['text'].fillna('').apply(lambda x: re.sub(r'[^\\w\\s]', '', str(x).lower()))\n",
    "df_train['label'] = df_train['label'].apply(lambda x: 1 if x == '__label__2' else 0)"
   ]
  },
  {
   "cell_type": "code",
   "execution_count": 6,
   "id": "ec238bad",
   "metadata": {},
   "outputs": [
    {
     "name": "stdout",
     "output_type": "stream",
     "text": [
      "         label text\n",
      "2274594      0     \n",
      "3270840      0     \n",
      "3577632      0     \n",
      "3514684      0     \n",
      "2756377      0     \n",
      "<class 'pandas.core.frame.DataFrame'>\n",
      "Index: 200000 entries, 2274594 to 1717926\n",
      "Data columns (total 2 columns):\n",
      " #   Column  Non-Null Count   Dtype \n",
      "---  ------  --------------   ----- \n",
      " 0   label   200000 non-null  int64 \n",
      " 1   text    200000 non-null  object\n",
      "dtypes: int64(1), object(1)\n",
      "memory usage: 4.6+ MB\n",
      "None\n"
     ]
    }
   ],
   "source": [
    "# Check if the cleaning process worked correctly\n",
    "print(df_train.head())\n",
    "print(df_train.info())"
   ]
  },
  {
   "cell_type": "code",
   "execution_count": 7,
   "id": "4845362b",
   "metadata": {},
   "outputs": [],
   "source": [
    "# Split the data into labels and texts\n",
    "train_texts, val_texts, train_labels, val_labels = train_test_split(df_train['text'].values, df_train['label'].values, test_size=0.2, random_state=42)"
   ]
  },
  {
   "cell_type": "code",
   "execution_count": 8,
   "id": "b657f6f7",
   "metadata": {},
   "outputs": [],
   "source": [
    "# Tokenize the text\n",
    "tokenizer = Tokenizer(num_words=10000)\n",
    "tokenizer.fit_on_texts(train_texts)\n",
    "train_sequences = tokenizer.texts_to_sequences(train_texts)\n",
    "val_sequences = tokenizer.texts_to_sequences(val_texts)"
   ]
  },
  {
   "cell_type": "code",
   "execution_count": 9,
   "id": "4c93f363",
   "metadata": {},
   "outputs": [],
   "source": [
    "# Pad sequences\n",
    "maxlen = 100\n",
    "X_train = pad_sequences(train_sequences, maxlen=maxlen)\n",
    "X_val = pad_sequences(val_sequences, maxlen=maxlen)"
   ]
  },
  {
   "cell_type": "markdown",
   "id": "0667f9be",
   "metadata": {},
   "source": [
    "# Model Building"
   ]
  },
  {
   "cell_type": "code",
   "execution_count": 10,
   "id": "e9640f9f",
   "metadata": {},
   "outputs": [],
   "source": [
    "# Define the LSTM model with hyperparameter tuning\n",
    "def build_model(lstm_units=128, dropout_rate=0.2, learning_rate=0.001):\n",
    "    model = Sequential()\n",
    "    model.add(Embedding(input_dim=10000, output_dim=128, input_length=maxlen))\n",
    "    model.add(LSTM(lstm_units, dropout=dropout_rate, recurrent_dropout=dropout_rate))\n",
    "    model.add(Dropout(dropout_rate))\n",
    "    model.add(Dense(1, activation='sigmoid'))\n",
    "    model.compile(loss='binary_crossentropy', optimizer=Adam(learning_rate=learning_rate), metrics=['accuracy'])\n",
    "    return model"
   ]
  },
  {
   "cell_type": "code",
   "execution_count": 11,
   "id": "bb09573a",
   "metadata": {},
   "outputs": [
    {
     "name": "stdout",
     "output_type": "stream",
     "text": [
      "Training with LSTM units: 64, Dropout: 0.2, Learning rate: 0.001\n"
     ]
    },
    {
     "name": "stderr",
     "output_type": "stream",
     "text": [
      "C:\\Users\\HP\\anaconda3\\Lib\\site-packages\\keras\\src\\layers\\core\\embedding.py:90: UserWarning: Argument `input_length` is deprecated. Just remove it.\n",
      "  warnings.warn(\n"
     ]
    },
    {
     "name": "stdout",
     "output_type": "stream",
     "text": [
      "Epoch 1/5\n",
      "\u001b[1m2500/2500\u001b[0m \u001b[32m━━━━━━━━━━━━━━━━━━━━\u001b[0m\u001b[37m\u001b[0m \u001b[1m197s\u001b[0m 77ms/step - accuracy: 0.9976 - loss: 0.0087 - val_accuracy: 1.0000 - val_loss: 4.6264e-06\n",
      "Epoch 2/5\n",
      "\u001b[1m2500/2500\u001b[0m \u001b[32m━━━━━━━━━━━━━━━━━━━━\u001b[0m\u001b[37m\u001b[0m \u001b[1m209s\u001b[0m 80ms/step - accuracy: 1.0000 - loss: 4.9427e-06 - val_accuracy: 1.0000 - val_loss: 9.4799e-07\n",
      "Epoch 3/5\n",
      "\u001b[1m2500/2500\u001b[0m \u001b[32m━━━━━━━━━━━━━━━━━━━━\u001b[0m\u001b[37m\u001b[0m \u001b[1m193s\u001b[0m 77ms/step - accuracy: 1.0000 - loss: 1.1811e-06 - val_accuracy: 1.0000 - val_loss: 2.0544e-07\n",
      "Epoch 4/5\n",
      "\u001b[1m2500/2500\u001b[0m \u001b[32m━━━━━━━━━━━━━━━━━━━━\u001b[0m\u001b[37m\u001b[0m \u001b[1m190s\u001b[0m 76ms/step - accuracy: 1.0000 - loss: 2.9270e-07 - val_accuracy: 1.0000 - val_loss: 5.8415e-08\n",
      "Epoch 5/5\n",
      "\u001b[1m2500/2500\u001b[0m \u001b[32m━━━━━━━━━━━━━━━━━━━━\u001b[0m\u001b[37m\u001b[0m \u001b[1m191s\u001b[0m 76ms/step - accuracy: 1.0000 - loss: 9.1212e-08 - val_accuracy: 1.0000 - val_loss: 1.5919e-08\n",
      "Training with LSTM units: 64, Dropout: 0.2, Learning rate: 0.0001\n",
      "Epoch 1/5\n",
      "\u001b[1m2500/2500\u001b[0m \u001b[32m━━━━━━━━━━━━━━━━━━━━\u001b[0m\u001b[37m\u001b[0m \u001b[1m195s\u001b[0m 76ms/step - accuracy: 1.0000 - loss: 0.0456 - val_accuracy: 1.0000 - val_loss: 6.6231e-05\n",
      "Epoch 2/5\n",
      "\u001b[1m2500/2500\u001b[0m \u001b[32m━━━━━━━━━━━━━━━━━━━━\u001b[0m\u001b[37m\u001b[0m \u001b[1m188s\u001b[0m 75ms/step - accuracy: 1.0000 - loss: 7.1153e-05 - val_accuracy: 1.0000 - val_loss: 1.8283e-05\n",
      "Epoch 3/5\n",
      "\u001b[1m2500/2500\u001b[0m \u001b[32m━━━━━━━━━━━━━━━━━━━━\u001b[0m\u001b[37m\u001b[0m \u001b[1m189s\u001b[0m 76ms/step - accuracy: 1.0000 - loss: 2.1581e-05 - val_accuracy: 1.0000 - val_loss: 5.6702e-06\n",
      "Epoch 4/5\n",
      "\u001b[1m2500/2500\u001b[0m \u001b[32m━━━━━━━━━━━━━━━━━━━━\u001b[0m\u001b[37m\u001b[0m \u001b[1m189s\u001b[0m 76ms/step - accuracy: 1.0000 - loss: 6.9038e-06 - val_accuracy: 1.0000 - val_loss: 1.7295e-06\n",
      "Epoch 5/5\n",
      "\u001b[1m2500/2500\u001b[0m \u001b[32m━━━━━━━━━━━━━━━━━━━━\u001b[0m\u001b[37m\u001b[0m \u001b[1m190s\u001b[0m 76ms/step - accuracy: 1.0000 - loss: 2.2483e-06 - val_accuracy: 1.0000 - val_loss: 5.0482e-07\n",
      "Training with LSTM units: 64, Dropout: 0.3, Learning rate: 0.001\n",
      "Epoch 1/5\n",
      "\u001b[1m2500/2500\u001b[0m \u001b[32m━━━━━━━━━━━━━━━━━━━━\u001b[0m\u001b[37m\u001b[0m \u001b[1m198s\u001b[0m 78ms/step - accuracy: 0.9984 - loss: 0.0089 - val_accuracy: 1.0000 - val_loss: 3.0656e-06\n",
      "Epoch 2/5\n",
      "\u001b[1m2500/2500\u001b[0m \u001b[32m━━━━━━━━━━━━━━━━━━━━\u001b[0m\u001b[37m\u001b[0m \u001b[1m197s\u001b[0m 79ms/step - accuracy: 1.0000 - loss: 4.7065e-06 - val_accuracy: 1.0000 - val_loss: 5.8283e-07\n",
      "Epoch 3/5\n",
      "\u001b[1m2500/2500\u001b[0m \u001b[32m━━━━━━━━━━━━━━━━━━━━\u001b[0m\u001b[37m\u001b[0m \u001b[1m194s\u001b[0m 78ms/step - accuracy: 1.0000 - loss: 1.1556e-06 - val_accuracy: 1.0000 - val_loss: 1.3335e-07\n",
      "Epoch 4/5\n",
      "\u001b[1m2500/2500\u001b[0m \u001b[32m━━━━━━━━━━━━━━━━━━━━\u001b[0m\u001b[37m\u001b[0m \u001b[1m197s\u001b[0m 79ms/step - accuracy: 1.0000 - loss: 3.2781e-07 - val_accuracy: 1.0000 - val_loss: 3.1705e-08\n",
      "Epoch 5/5\n",
      "\u001b[1m2500/2500\u001b[0m \u001b[32m━━━━━━━━━━━━━━━━━━━━\u001b[0m\u001b[37m\u001b[0m \u001b[1m196s\u001b[0m 78ms/step - accuracy: 1.0000 - loss: 9.6070e-08 - val_accuracy: 1.0000 - val_loss: 7.6206e-09\n",
      "Training with LSTM units: 64, Dropout: 0.3, Learning rate: 0.0001\n",
      "Epoch 1/5\n",
      "\u001b[1m2500/2500\u001b[0m \u001b[32m━━━━━━━━━━━━━━━━━━━━\u001b[0m\u001b[37m\u001b[0m \u001b[1m185s\u001b[0m 72ms/step - accuracy: 0.9969 - loss: 0.0514 - val_accuracy: 1.0000 - val_loss: 5.0408e-05\n",
      "Epoch 2/5\n",
      "\u001b[1m2500/2500\u001b[0m \u001b[32m━━━━━━━━━━━━━━━━━━━━\u001b[0m\u001b[37m\u001b[0m \u001b[1m200s\u001b[0m 71ms/step - accuracy: 1.0000 - loss: 7.1288e-05 - val_accuracy: 1.0000 - val_loss: 1.4222e-05\n",
      "Epoch 3/5\n",
      "\u001b[1m2500/2500\u001b[0m \u001b[32m━━━━━━━━━━━━━━━━━━━━\u001b[0m\u001b[37m\u001b[0m \u001b[1m209s\u001b[0m 74ms/step - accuracy: 1.0000 - loss: 2.1980e-05 - val_accuracy: 1.0000 - val_loss: 4.3409e-06\n",
      "Epoch 4/5\n",
      "\u001b[1m2500/2500\u001b[0m \u001b[32m━━━━━━━━━━━━━━━━━━━━\u001b[0m\u001b[37m\u001b[0m \u001b[1m175s\u001b[0m 70ms/step - accuracy: 1.0000 - loss: 7.2113e-06 - val_accuracy: 1.0000 - val_loss: 1.2607e-06\n",
      "Epoch 5/5\n",
      "\u001b[1m2500/2500\u001b[0m \u001b[32m━━━━━━━━━━━━━━━━━━━━\u001b[0m\u001b[37m\u001b[0m \u001b[1m180s\u001b[0m 72ms/step - accuracy: 1.0000 - loss: 2.3188e-06 - val_accuracy: 1.0000 - val_loss: 3.4619e-07\n",
      "Training with LSTM units: 128, Dropout: 0.2, Learning rate: 0.001\n",
      "Epoch 1/5\n",
      "\u001b[1m2500/2500\u001b[0m \u001b[32m━━━━━━━━━━━━━━━━━━━━\u001b[0m\u001b[37m\u001b[0m \u001b[1m371s\u001b[0m 147ms/step - accuracy: 0.9998 - loss: 0.0065 - val_accuracy: 1.0000 - val_loss: 7.4985e-07\n",
      "Epoch 2/5\n",
      "\u001b[1m2500/2500\u001b[0m \u001b[32m━━━━━━━━━━━━━━━━━━━━\u001b[0m\u001b[37m\u001b[0m \u001b[1m364s\u001b[0m 146ms/step - accuracy: 1.0000 - loss: 7.6490e-07 - val_accuracy: 1.0000 - val_loss: 1.9922e-07\n",
      "Epoch 3/5\n",
      "\u001b[1m2500/2500\u001b[0m \u001b[32m━━━━━━━━━━━━━━━━━━━━\u001b[0m\u001b[37m\u001b[0m \u001b[1m350s\u001b[0m 140ms/step - accuracy: 1.0000 - loss: 2.1705e-07 - val_accuracy: 1.0000 - val_loss: 5.7501e-08\n",
      "Epoch 4/5\n",
      "\u001b[1m2500/2500\u001b[0m \u001b[32m━━━━━━━━━━━━━━━━━━━━\u001b[0m\u001b[37m\u001b[0m \u001b[1m332s\u001b[0m 133ms/step - accuracy: 1.0000 - loss: 6.6199e-08 - val_accuracy: 1.0000 - val_loss: 1.6534e-08\n",
      "Epoch 5/5\n",
      "\u001b[1m2500/2500\u001b[0m \u001b[32m━━━━━━━━━━━━━━━━━━━━\u001b[0m\u001b[37m\u001b[0m \u001b[1m333s\u001b[0m 133ms/step - accuracy: 1.0000 - loss: 1.9812e-08 - val_accuracy: 1.0000 - val_loss: 4.7908e-09\n",
      "Training with LSTM units: 128, Dropout: 0.2, Learning rate: 0.0001\n",
      "Epoch 1/5\n",
      "\u001b[1m2500/2500\u001b[0m \u001b[32m━━━━━━━━━━━━━━━━━━━━\u001b[0m\u001b[37m\u001b[0m \u001b[1m363s\u001b[0m 144ms/step - accuracy: 0.9916 - loss: 0.0403 - val_accuracy: 1.0000 - val_loss: 8.0265e-06\n",
      "Epoch 2/5\n",
      "\u001b[1m2500/2500\u001b[0m \u001b[32m━━━━━━━━━━━━━━━━━━━━\u001b[0m\u001b[37m\u001b[0m \u001b[1m351s\u001b[0m 140ms/step - accuracy: 1.0000 - loss: 8.8282e-06 - val_accuracy: 1.0000 - val_loss: 2.3327e-06\n",
      "Epoch 3/5\n",
      "\u001b[1m2500/2500\u001b[0m \u001b[32m━━━━━━━━━━━━━━━━━━━━\u001b[0m\u001b[37m\u001b[0m \u001b[1m336s\u001b[0m 134ms/step - accuracy: 1.0000 - loss: 2.7297e-06 - val_accuracy: 1.0000 - val_loss: 8.7267e-07\n",
      "Epoch 4/5\n",
      "\u001b[1m2500/2500\u001b[0m \u001b[32m━━━━━━━━━━━━━━━━━━━━\u001b[0m\u001b[37m\u001b[0m \u001b[1m343s\u001b[0m 137ms/step - accuracy: 1.0000 - loss: 1.0404e-06 - val_accuracy: 1.0000 - val_loss: 3.3294e-07\n",
      "Epoch 5/5\n",
      "\u001b[1m2500/2500\u001b[0m \u001b[32m━━━━━━━━━━━━━━━━━━━━\u001b[0m\u001b[37m\u001b[0m \u001b[1m339s\u001b[0m 136ms/step - accuracy: 1.0000 - loss: 3.9150e-07 - val_accuracy: 1.0000 - val_loss: 1.1529e-07\n",
      "Training with LSTM units: 128, Dropout: 0.3, Learning rate: 0.001\n",
      "Epoch 1/5\n",
      "\u001b[1m2500/2500\u001b[0m \u001b[32m━━━━━━━━━━━━━━━━━━━━\u001b[0m\u001b[37m\u001b[0m \u001b[1m575s\u001b[0m 228ms/step - accuracy: 0.9987 - loss: 0.0078 - val_accuracy: 1.0000 - val_loss: 6.5176e-07\n",
      "Epoch 2/5\n",
      "\u001b[1m2500/2500\u001b[0m \u001b[32m━━━━━━━━━━━━━━━━━━━━\u001b[0m\u001b[37m\u001b[0m \u001b[1m566s\u001b[0m 226ms/step - accuracy: 1.0000 - loss: 8.5631e-07 - val_accuracy: 1.0000 - val_loss: 1.7338e-07\n",
      "Epoch 3/5\n",
      "\u001b[1m2500/2500\u001b[0m \u001b[32m━━━━━━━━━━━━━━━━━━━━\u001b[0m\u001b[37m\u001b[0m \u001b[1m592s\u001b[0m 237ms/step - accuracy: 1.0000 - loss: 2.5093e-07 - val_accuracy: 1.0000 - val_loss: 4.8451e-08\n",
      "Epoch 4/5\n",
      "\u001b[1m2500/2500\u001b[0m \u001b[32m━━━━━━━━━━━━━━━━━━━━\u001b[0m\u001b[37m\u001b[0m \u001b[1m355s\u001b[0m 142ms/step - accuracy: 1.0000 - loss: 7.6060e-08 - val_accuracy: 1.0000 - val_loss: 1.3424e-08\n",
      "Epoch 5/5\n",
      "\u001b[1m2500/2500\u001b[0m \u001b[32m━━━━━━━━━━━━━━━━━━━━\u001b[0m\u001b[37m\u001b[0m \u001b[1m369s\u001b[0m 147ms/step - accuracy: 1.0000 - loss: 2.3287e-08 - val_accuracy: 1.0000 - val_loss: 3.7044e-09\n",
      "Training with LSTM units: 128, Dropout: 0.3, Learning rate: 0.0001\n",
      "Epoch 1/5\n",
      "\u001b[1m2500/2500\u001b[0m \u001b[32m━━━━━━━━━━━━━━━━━━━━\u001b[0m\u001b[37m\u001b[0m \u001b[1m617s\u001b[0m 244ms/step - accuracy: 0.9954 - loss: 0.0402 - val_accuracy: 1.0000 - val_loss: 5.4864e-06\n",
      "Epoch 2/5\n",
      "\u001b[1m2500/2500\u001b[0m \u001b[32m━━━━━━━━━━━━━━━━━━━━\u001b[0m\u001b[37m\u001b[0m \u001b[1m599s\u001b[0m 239ms/step - accuracy: 1.0000 - loss: 8.2843e-06 - val_accuracy: 1.0000 - val_loss: 1.9862e-06\n",
      "Epoch 3/5\n",
      "\u001b[1m2500/2500\u001b[0m \u001b[32m━━━━━━━━━━━━━━━━━━━━\u001b[0m\u001b[37m\u001b[0m \u001b[1m601s\u001b[0m 240ms/step - accuracy: 1.0000 - loss: 3.0038e-06 - val_accuracy: 1.0000 - val_loss: 7.5112e-07\n",
      "Epoch 4/5\n",
      "\u001b[1m2500/2500\u001b[0m \u001b[32m━━━━━━━━━━━━━━━━━━━━\u001b[0m\u001b[37m\u001b[0m \u001b[1m601s\u001b[0m 240ms/step - accuracy: 1.0000 - loss: 1.1347e-06 - val_accuracy: 1.0000 - val_loss: 2.7246e-07\n",
      "Epoch 5/5\n",
      "\u001b[1m2500/2500\u001b[0m \u001b[32m━━━━━━━━━━━━━━━━━━━━\u001b[0m\u001b[37m\u001b[0m \u001b[1m608s\u001b[0m 243ms/step - accuracy: 1.0000 - loss: 4.1792e-07 - val_accuracy: 1.0000 - val_loss: 9.1499e-08\n"
     ]
    }
   ],
   "source": [
    "# hyperparameters\n",
    "lstm_units = [64, 128]\n",
    "dropout_rates = [0.2, 0.3]\n",
    "learning_rates = [0.001, 0.0001]\n",
    "\n",
    "best_val_accuracy = 0\n",
    "best_model = None\n",
    "for units in lstm_units:\n",
    "    for dropout in dropout_rates:\n",
    "        for lr in learning_rates:\n",
    "            print(f\"Training with LSTM units: {units}, Dropout: {dropout}, Learning rate: {lr}\")\n",
    "            model = build_model(lstm_units=units, dropout_rate=dropout, learning_rate=lr)\n",
    "            history = model.fit(X_train, train_labels, epochs=5, batch_size=64, validation_data=(X_val, val_labels))\n",
    "            val_accuracy = max(history.history['val_accuracy'])\n",
    "            if val_accuracy > best_val_accuracy:\n",
    "                best_val_accuracy = val_accuracy\n",
    "                best_model = model"
   ]
  },
  {
   "cell_type": "markdown",
   "id": "b973c4c8",
   "metadata": {},
   "source": [
    "# Model Training"
   ]
  },
  {
   "cell_type": "code",
   "execution_count": 18,
   "id": "07133e38",
   "metadata": {},
   "outputs": [
    {
     "name": "stdout",
     "output_type": "stream",
     "text": [
      "Epoch 1/5\n",
      "\u001b[1m2000/2000\u001b[0m \u001b[32m━━━━━━━━━━━━━━━━━━━━\u001b[0m\u001b[37m\u001b[0m \u001b[1m465s\u001b[0m 232ms/step - accuracy: 1.0000 - loss: 1.5535e-07 - val_accuracy: 1.0000 - val_loss: 3.6085e-08\n",
      "Epoch 2/5\n",
      "\u001b[1m2000/2000\u001b[0m \u001b[32m━━━━━━━━━━━━━━━━━━━━\u001b[0m\u001b[37m\u001b[0m \u001b[1m461s\u001b[0m 230ms/step - accuracy: 1.0000 - loss: 6.4062e-08 - val_accuracy: 1.0000 - val_loss: 1.4241e-08\n",
      "Epoch 3/5\n",
      "\u001b[1m2000/2000\u001b[0m \u001b[32m━━━━━━━━━━━━━━━━━━━━\u001b[0m\u001b[37m\u001b[0m \u001b[1m492s\u001b[0m 246ms/step - accuracy: 1.0000 - loss: 2.7572e-08 - val_accuracy: 1.0000 - val_loss: 5.8291e-09\n",
      "Epoch 4/5\n",
      "\u001b[1m2000/2000\u001b[0m \u001b[32m━━━━━━━━━━━━━━━━━━━━\u001b[0m\u001b[37m\u001b[0m \u001b[1m456s\u001b[0m 228ms/step - accuracy: 1.0000 - loss: 1.2358e-08 - val_accuracy: 1.0000 - val_loss: 2.6759e-09\n",
      "Epoch 5/5\n",
      "\u001b[1m2000/2000\u001b[0m \u001b[32m━━━━━━━━━━━━━━━━━━━━\u001b[0m\u001b[37m\u001b[0m \u001b[1m458s\u001b[0m 229ms/step - accuracy: 1.0000 - loss: 6.1669e-09 - val_accuracy: 1.0000 - val_loss: 1.4068e-09\n"
     ]
    }
   ],
   "source": [
    "# Train the model\n",
    "history = model.fit(X_train, train_labels, epochs=5, batch_size=64, validation_split=0.2)"
   ]
  },
  {
   "cell_type": "code",
   "execution_count": 20,
   "id": "e6671317",
   "metadata": {},
   "outputs": [],
   "source": [
    "# Load and Preprocess Test Data\n",
    "df_test = pd.read_csv('test.ft.txt.bz2', delimiter='\\t', header=None, names=['label', 'text']).sample(50000)"
   ]
  },
  {
   "cell_type": "code",
   "execution_count": 21,
   "id": "b4de6304",
   "metadata": {},
   "outputs": [
    {
     "name": "stdout",
     "output_type": "stream",
     "text": [
      "                                                    label  text\n",
      "328611  __label__1 This isnt a serious book, right?: I...   NaN\n",
      "145204  __label__1 This is not Christianity: If you at...   NaN\n",
      "154613  __label__2 Medical Tape: This product works gr...   NaN\n",
      "77710   __label__2 God is an Ever-present Help in Trou...   NaN\n",
      "162626  __label__2 From a Harlan Native: Upon reading ...   NaN\n",
      "<class 'pandas.core.frame.DataFrame'>\n",
      "Index: 50000 entries, 328611 to 136564\n",
      "Data columns (total 2 columns):\n",
      " #   Column  Non-Null Count  Dtype  \n",
      "---  ------  --------------  -----  \n",
      " 0   label   50000 non-null  object \n",
      " 1   text    0 non-null      float64\n",
      "dtypes: float64(1), object(1)\n",
      "memory usage: 1.1+ MB\n",
      "None\n",
      "label\n",
      "__label__1 This isnt a serious book, right?: I am not a right winger nor am I a left winger, but I am certainly a person who can see that this book is bias to the core. I mean c'mon...Emma Goldman?! She was an anarchist terrorist in the early 1900's. W.E.B Du Bois was a Stalinist racial seperatist that masked himself off as a Civil Rights leader. Chomsky and Zinn are deconstructionalist malcontents who are admired by the radical left and are even touted by radical Islamists. Goodman is a hack journalist who runs an overtly bias radio program.This book cannot be taken seriously and I hope it remains within the inner circle of the hard left crowd. The sad thing is that they're trying to pander this off to children. For shame...    1\n",
      "__label__1 you get what you pay for: I had this installed by a master electrician, he could not get it to work except on the test mode despite much trial, and I have had no better success after a week. Will have to replace it with a better quality device.                                                                                                                                                                                                                                                                                                                                                                                                                                                                                                    1\n",
      "__label__2 Savoy Brown.: I used to listen to \"Train to Nowhere\" in a cafe in Brighton, England, in the early '70's, and finally bought this cd which features it. Most of the other tracks I like too. Check it out - Savoy Brown will stand comparison with the best blues bands.                                                                                                                                                                                                                                                                                                                                                                                                                                                                                 1\n",
      "__label__2 Best Blender Ever!!!: My hubby got this for me for our first anniversary. I love it. We looked at the vita mixer and after ready reviews that the vita mixer had all kinds of problems and would heat up too quickly we got the blendtec. It blends everything! And it doesnt heat anything up (unless you leave it running for like 5 minutes then it is suppost to do that)! I would recommend this to anyone wanting a high powered blender or food processer. It grinds everything we put in it, even nuts and seeds. The best part is its about $200 cheaper then the vita mixer and works 10x better!                                                                                                                                             1\n",
      "__label__1 Outdated and DANGEROUS: Givens wrote this book in the \"dark ages\" of player restoration. Time has shown that many materials and techniques used when Givens wrote this book can cause extreme damage to your valuable instrument! Buy Art Reblitz' book, it is much better!                                                                                                                                                                                                                                                                                                                                                                                                                                                                             1\n",
      "                                                                                                                                                                                                                                                                                                                                                                                                                                                                                                                                                                                                                                                                                                                                                                  ..\n",
      "__label__1 Hideous: I don't know where that other guy on here was coming from, saying that this is an action movie that keeps you at the edge of your seats (Disney can't make action, the little kids would get scared). This movie goes way over the edge of reality, giving a little stupid kid one-million dollars (now who thinks that will ever happen just on accident?). It's another Disney thing where they go through and put a kid in an outlandish situation and make an unoriginal slapstick humor movie. In fact, when I told someone at the theater I work at that one new movie was directed by the guy who directed this one, he shuddered from remembering how horrible this movie really was.                                                  1\n",
      "__label__2 Good Resource: I haven't gone through this book thoroughly yet, but it is a suggested reading from my professor for a Gifted Master's program.                                                                                                                                                                                                                                                                                                                                                                                                                                                                                                                                                                                                          1\n",
      "__label__2 Labor of Thy Fruits: Jaslyn's Mr. Right is taking longer than she had hoped. Her two decade search is coming up short and disappointing. Instead of having a perfect man should she settle for a piece of man?Sampson is only looking for Ms. Right Now. He is fine with holding it down with whoever wants to give up the booty to a fine, educated brother with a little cash. He has no plans of settling down. If they are not broke or crazy they don't know a good man when they see one anyway.T. Cass doesn't disappoint as she gives us hope on this journey of friends, family and relationships.                                                                                                                                             1\n",
      "__label__2 Excellent headphones: This review is from: Audio-Technica ATHM40FS Precision Studio Headphones (Electronics)These are some of the best headphones I've owned. The sound is clean and realistic with no extra bass or treble.For people that love lots of bass these might not be the best headphones, although if you add bass on your receiver they produce great bass! Remember the sound is very honest and real!For that price I doubt you can buy something with more quality than these.These headphones are also fantastic for mixing, the sound is very clear and accurate.It's a pleausure to listen on these headphones, I can hear so many details!Highly Recommended!                                                                       1\n",
      "__label__1 they have to stop: What is this?? all these punk...pussy bands sound like a bunch of teenagers in a garage band that have no talent. listen to the lyrics, sounds like sonnie and cher. dont listen to yellow card, blink 182, new found glory, or this. Try listning to Metallica, Stevie ray vaughn, Children of bodom. guns n roses, motorhead, even nirvana. Real music                                                                                                                                                                                                                                                                                                                                                                             1\n",
      "Name: count, Length: 50000, dtype: int64\n"
     ]
    }
   ],
   "source": [
    "# Explore the dataset\n",
    "print(df_test.head())\n",
    "print(df_test.info())\n",
    "print(df_test['label'].value_counts())"
   ]
  },
  {
   "cell_type": "code",
   "execution_count": 22,
   "id": "96744c3d",
   "metadata": {},
   "outputs": [],
   "source": [
    "df_test['text'] = df_test['text'].fillna('').apply(lambda x: re.sub(r'[^\\w\\s]', '', x.lower()))\n",
    "df_test['label'] = df_test['label'].apply(lambda x: 1 if x == '__label__2' else 0)\n",
    "test_sequences = tokenizer.texts_to_sequences(df_test['text'].values)\n",
    "X_test = pad_sequences(test_sequences, maxlen=maxlen)\n",
    "test_labels = df_test['label'].values"
   ]
  },
  {
   "cell_type": "markdown",
   "id": "f990c78e",
   "metadata": {},
   "source": [
    "# Model Evaluation"
   ]
  },
  {
   "cell_type": "code",
   "execution_count": 23,
   "id": "9440ac7f",
   "metadata": {},
   "outputs": [
    {
     "name": "stdout",
     "output_type": "stream",
     "text": [
      "\u001b[1m1563/1563\u001b[0m \u001b[32m━━━━━━━━━━━━━━━━━━━━\u001b[0m\u001b[37m\u001b[0m \u001b[1m37s\u001b[0m 24ms/step\n"
     ]
    }
   ],
   "source": [
    "# Predict on Test Set\n",
    "y_pred = (best_model.predict(X_test) > 0.5).astype(\"int32\")"
   ]
  },
  {
   "cell_type": "code",
   "execution_count": 24,
   "id": "6d900963",
   "metadata": {},
   "outputs": [
    {
     "name": "stdout",
     "output_type": "stream",
     "text": [
      "Accuracy: 1.0\n",
      "Precision: 0.0\n",
      "Recall: 0.0\n",
      "F1 Score: 0.0\n"
     ]
    },
    {
     "name": "stderr",
     "output_type": "stream",
     "text": [
      "C:\\Users\\HP\\anaconda3\\Lib\\site-packages\\sklearn\\metrics\\_classification.py:1509: UndefinedMetricWarning: Precision is ill-defined and being set to 0.0 due to no predicted samples. Use `zero_division` parameter to control this behavior.\n",
      "  _warn_prf(average, modifier, f\"{metric.capitalize()} is\", len(result))\n",
      "C:\\Users\\HP\\anaconda3\\Lib\\site-packages\\sklearn\\metrics\\_classification.py:1509: UndefinedMetricWarning: Recall is ill-defined and being set to 0.0 due to no true samples. Use `zero_division` parameter to control this behavior.\n",
      "  _warn_prf(average, modifier, f\"{metric.capitalize()} is\", len(result))\n",
      "C:\\Users\\HP\\anaconda3\\Lib\\site-packages\\sklearn\\metrics\\_classification.py:1509: UndefinedMetricWarning: F-score is ill-defined and being set to 0.0 due to no true nor predicted samples. Use `zero_division` parameter to control this behavior.\n",
      "  _warn_prf(average, modifier, f\"{metric.capitalize()} is\", len(result))\n"
     ]
    }
   ],
   "source": [
    "# Calculate Metrics\n",
    "accuracy = accuracy_score(test_labels, y_pred)\n",
    "precision = precision_score(test_labels, y_pred)\n",
    "recall = recall_score(test_labels, y_pred)\n",
    "f1 = f1_score(test_labels, y_pred)\n",
    "print(f'Accuracy: {accuracy}')\n",
    "print(f'Precision: {precision}')\n",
    "print(f'Recall: {recall}')\n",
    "print(f'F1 Score: {f1}')"
   ]
  },
  {
   "cell_type": "code",
   "execution_count": 25,
   "id": "3d3f4bc5",
   "metadata": {},
   "outputs": [
    {
     "name": "stderr",
     "output_type": "stream",
     "text": [
      "C:\\Users\\HP\\anaconda3\\Lib\\site-packages\\sklearn\\metrics\\_classification.py:386: UserWarning: A single label was found in 'y_true' and 'y_pred'. For the confusion matrix to have the correct shape, use the 'labels' parameter to pass all known labels.\n",
      "  warnings.warn(\n"
     ]
    },
    {
     "data": {
      "image/png": "[encoded data removed]",
      "text/plain": [
       "<Figure size 640x480 with 2 Axes>"
      ]
     },
     "metadata": {},
     "output_type": "display_data"
    }
   ],
   "source": [
    "# Plot Confusion Matrix\n",
    "cm = confusion_matrix(test_labels, y_pred)\n",
    "sns.heatmap(cm, annot=True, fmt='d', cmap='Blues', xticklabels=['Negative', 'Positive'], yticklabels=['Negative', 'Positive'])\n",
    "plt.xlabel('Predicted')\n",
    "plt.ylabel('Actual')\n",
    "plt.title('Confusion Matrix')\n",
    "plt.show()"
   ]
  },
  {
   "cell_type": "code",
   "execution_count": 30,
   "id": "e854f517",
   "metadata": {},
   "outputs": [
    {
     "name": "stdout",
     "output_type": "stream",
     "text": [
      "Epoch 1/5\n",
      "\u001b[1m2500/2500\u001b[0m \u001b[32m━━━━━━━━━━━━━━━━━━━━\u001b[0m\u001b[37m\u001b[0m \u001b[1m581s\u001b[0m 232ms/step - accuracy: 1.0000 - loss: 3.4151e-09 - val_accuracy: 1.0000 - val_loss: 7.6439e-10\n",
      "Epoch 2/5\n",
      "\u001b[1m2500/2500\u001b[0m \u001b[32m━━━━━━━━━━━━━━━━━━━━\u001b[0m\u001b[37m\u001b[0m \u001b[1m569s\u001b[0m 228ms/step - accuracy: 1.0000 - loss: 2.0265e-09 - val_accuracy: 1.0000 - val_loss: 4.9414e-10\n",
      "Epoch 3/5\n",
      "\u001b[1m2500/2500\u001b[0m \u001b[32m━━━━━━━━━━━━━━━━━━━━\u001b[0m\u001b[37m\u001b[0m \u001b[1m575s\u001b[0m 230ms/step - accuracy: 1.0000 - loss: 1.3768e-09 - val_accuracy: 1.0000 - val_loss: 3.5683e-10\n",
      "Epoch 4/5\n",
      "\u001b[1m2500/2500\u001b[0m \u001b[32m━━━━━━━━━━━━━━━━━━━━\u001b[0m\u001b[37m\u001b[0m \u001b[1m577s\u001b[0m 231ms/step - accuracy: 1.0000 - loss: 1.0462e-09 - val_accuracy: 1.0000 - val_loss: 2.7694e-10\n",
      "Epoch 5/5\n",
      "\u001b[1m2500/2500\u001b[0m \u001b[32m━━━━━━━━━━━━━━━━━━━━\u001b[0m\u001b[37m\u001b[0m \u001b[1m569s\u001b[0m 228ms/step - accuracy: 1.0000 - loss: 8.5183e-10 - val_accuracy: 1.0000 - val_loss: 2.2492e-10\n"
     ]
    }
   ],
   "source": [
    "# overfitting solution\n",
    "from tensorflow.keras.regularizers import l2\n",
    "\n",
    "# Define the LSTM model with additional regularization\n",
    "def build_model(lstm_units=128, dropout_rate=0.3, learning_rate=0.001, l2_penalty=0.001):\n",
    "    model = Sequential()\n",
    "    model.add(Embedding(input_dim=10000, output_dim=128, input_length=maxlen))\n",
    "    model.add(LSTM(lstm_units, dropout=dropout_rate, recurrent_dropout=dropout_rate, kernel_regularizer=l2(l2_penalty)))\n",
    "    model.add(Dropout(dropout_rate))\n",
    "    model.add(Dense(1, activation='sigmoid', kernel_regularizer=l2(l2_penalty)))\n",
    "    model.compile(loss='binary_crossentropy', optimizer=Adam(learning_rate=learning_rate), metrics=['accuracy'])\n",
    "    return model\n",
    "\n",
    "# Implement Early Stopping\n",
    "from tensorflow.keras.callbacks import EarlyStopping\n",
    "early_stopping = EarlyStopping(monitor='val_loss', patience=2)\n",
    "\n",
    "# Train the model with early stopping\n",
    "history = model.fit(X_train, train_labels, epochs=5, batch_size=64, validation_data=(X_val, val_labels), callbacks=[early_stopping])\n"
   ]
  },
  {
   "cell_type": "markdown",
   "id": "00ac5106",
   "metadata": {},
   "source": [
    "# Experimentation"
   ]
  },
  {
   "cell_type": "code",
   "execution_count": 31,
   "id": "44587f45",
   "metadata": {},
   "outputs": [],
   "source": [
    "import tensorflow as tf\n",
    "from tensorflow.keras import layers\n",
    "import numpy as np"
   ]
  },
  {
   "cell_type": "code",
   "execution_count": 32,
   "id": "55ba2f1f",
   "metadata": {},
   "outputs": [
    {
     "name": "stdout",
     "output_type": "stream",
     "text": [
      "Experiment 1/5\n",
      "Experiment 2/5\n",
      "Experiment 3/5\n",
      "Experiment 4/5\n",
      "Experiment 5/5\n"
     ]
    }
   ],
   "source": [
    "num_experiments = 5\n",
    "results = []\n",
    "\n",
    "for i in range(num_experiments):\n",
    "    print(f\"Experiment {i+1}/{num_experiments}\")"
   ]
  },
  {
   "cell_type": "code",
   "execution_count": 33,
   "id": "83acd292",
   "metadata": {},
   "outputs": [
    {
     "name": "stdout",
     "output_type": "stream",
     "text": [
      "\u001b[1m1563/1563\u001b[0m \u001b[32m━━━━━━━━━━━━━━━━━━━━\u001b[0m\u001b[37m\u001b[0m \u001b[1m70s\u001b[0m 45ms/step - accuracy: 1.0000 - loss: 2.2491e-10\n"
     ]
    }
   ],
   "source": [
    "# Evaluate the model\n",
    "loss, accuracy = model.evaluate(X_test, test_labels)\n",
    "    \n",
    "    # Store the results\n",
    "results.append({\n",
    "        'experiment': i+1,\n",
    "        'loss': loss,\n",
    "        'accuracy': accuracy,\n",
    "        'history': history.history\n",
    "    })"
   ]
  },
  {
   "cell_type": "markdown",
   "id": "a409f6a7",
   "metadata": {},
   "source": [
    "# Results Analysis"
   ]
  },
  {
   "cell_type": "code",
   "execution_count": 34,
   "id": "9f2def93",
   "metadata": {},
   "outputs": [
    {
     "name": "stdout",
     "output_type": "stream",
     "text": [
      "Experiment 5:\n",
      "Test set loss: 2.2491063178531334e-10\n",
      "Test set accuracy: 1.0\n"
     ]
    }
   ],
   "source": [
    "# Results Analysis\n",
    "for result in results:\n",
    "    print(f\"Experiment {result['experiment']}:\")\n",
    "    print(\"Test set loss:\", result['loss'])\n",
    "    print(\"Test set accuracy:\", result['accuracy'])\n",
    "    # Further analysis and discussion of the results can be done here"
   ]
  },
  {
   "cell_type": "code",
   "execution_count": null,
   "id": "1be6c8d7",
   "metadata": {},
   "outputs": [],
   "source": []
  }
 ],
 "metadata": {
  "kernelspec": {
   "display_name": "Python 3 (ipykernel)",
   "language": "python",
   "name": "python3"
  },
  "language_info": {
   "codemirror_mode": {
    "name": "ipython",
    "version": 3
   },
   "file_extension": ".py",
   "mimetype": "text/x-python",
   "name": "python",
   "nbconvert_exporter": "python",
   "pygments_lexer": "ipython3",
   "version": "3.11.7"
  }
 },
 "nbformat": 4,
 "nbformat_minor": 5
}
